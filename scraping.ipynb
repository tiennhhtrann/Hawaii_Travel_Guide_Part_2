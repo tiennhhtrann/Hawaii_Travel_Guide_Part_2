{
 "cells": [
  {
   "cell_type": "code",
   "execution_count": null,
   "metadata": {},
   "outputs": [],
   "source": [
    "from splinter import Browser\n",
    "from bs4 import BeautifulSoup\n",
    "from webdriver_manager.chrome import ChromeDriverManager"
   ]
  },
  {
   "cell_type": "code",
   "execution_count": 38,
   "metadata": {},
   "outputs": [],
   "source": [
    "executable_path = {'executable_path': ChromeDriverManager().install()}\n",
    "browser = Browser('chrome', **executable_path, headless=False)"
   ]
  },
  {
   "cell_type": "code",
   "execution_count": 39,
   "metadata": {},
   "outputs": [],
   "source": [
    "url = \"https://www.transtats.bts.gov/AverageFare/\"\n",
    "browser.visit(url)"
   ]
  },
  {
   "cell_type": "code",
   "execution_count": 40,
   "metadata": {},
   "outputs": [],
   "source": [
    "html = browser.html\n",
    "soup = BeautifulSoup(html, 'html.parser')"
   ]
  },
  {
   "cell_type": "code",
   "execution_count": 41,
   "metadata": {},
   "outputs": [],
   "source": [
    "def scrape_page(html, ls, yr, qtr):\n",
    "    table = soup.find('table', id='GridView1')\n",
    "    t_rows = table.find_all('tr')\n",
    "    for row in t_rows:\n",
    "        dict = scrape_row(row)\n",
    "        if dict is not None:\n",
    "            dict['year'] = yr\n",
    "            dict['quarter'] = qtr\n",
    "            ls.append(dict)\n",
    "    return table\n",
    "\n",
    "def scrape_row(table_row):\n",
    "    try:\n",
    "        tds = table_row.find_all('td')\n",
    "        state = tds[3].text\n",
    "        if state == 'HI':\n",
    "            airport = tds[1].text\n",
    "            city = tds[2].text\n",
    "            avg_fare = float(tds[4].text.replace(\",\", \"\"))\n",
    "            adjusted_fare = float(tds[5].text.replace(\",\", \"\"))\n",
    "            dict = {\n",
    "                \"airport\" : airport,\n",
    "                \"city\" : city,\n",
    "                \"Average Fare\": avg_fare,\n",
    "                \"Inflation Adjusted Average Fare\": adjusted_fare\n",
    "            }\n",
    "            return dict\n",
    "        return None\n",
    "        \n",
    "    except:\n",
    "        pass\n"
   ]
  },
  {
   "cell_type": "code",
   "execution_count": 42,
   "metadata": {},
   "outputs": [],
   "source": [
    "years = [i for i in range(1993, 2022)]\n",
    "quarters = [1, 2, 3, 4]"
   ]
  },
  {
   "cell_type": "code",
   "execution_count": 43,
   "metadata": {},
   "outputs": [],
   "source": [
    "import pandas as pd\n",
    "import time"
   ]
  },
  {
   "cell_type": "code",
   "execution_count": 44,
   "metadata": {},
   "outputs": [
    {
     "data": {
      "text/html": [
       "<div>\n",
       "<style scoped>\n",
       "    .dataframe tbody tr th:only-of-type {\n",
       "        vertical-align: middle;\n",
       "    }\n",
       "\n",
       "    .dataframe tbody tr th {\n",
       "        vertical-align: top;\n",
       "    }\n",
       "\n",
       "    .dataframe thead th {\n",
       "        text-align: right;\n",
       "    }\n",
       "</style>\n",
       "<table border=\"1\" class=\"dataframe\">\n",
       "  <thead>\n",
       "    <tr style=\"text-align: right;\">\n",
       "      <th></th>\n",
       "      <th>airport</th>\n",
       "      <th>city</th>\n",
       "      <th>Average Fare</th>\n",
       "      <th>Inflation Adjusted Average Fare</th>\n",
       "      <th>year</th>\n",
       "      <th>quarter</th>\n",
       "    </tr>\n",
       "  </thead>\n",
       "  <tbody>\n",
       "    <tr>\n",
       "      <th>0</th>\n",
       "      <td>HNL</td>\n",
       "      <td>Honolulu</td>\n",
       "      <td>103.28</td>\n",
       "      <td>211.15</td>\n",
       "      <td>1993</td>\n",
       "      <td>1</td>\n",
       "    </tr>\n",
       "    <tr>\n",
       "      <th>1</th>\n",
       "      <td>OGG</td>\n",
       "      <td>Kahului</td>\n",
       "      <td>48.83</td>\n",
       "      <td>99.84</td>\n",
       "      <td>1993</td>\n",
       "      <td>1</td>\n",
       "    </tr>\n",
       "    <tr>\n",
       "      <th>2</th>\n",
       "      <td>KOA</td>\n",
       "      <td>Kona</td>\n",
       "      <td>45.96</td>\n",
       "      <td>93.98</td>\n",
       "      <td>1993</td>\n",
       "      <td>1</td>\n",
       "    </tr>\n",
       "    <tr>\n",
       "      <th>3</th>\n",
       "      <td>LIH</td>\n",
       "      <td>Lihue</td>\n",
       "      <td>48.21</td>\n",
       "      <td>98.56</td>\n",
       "      <td>1993</td>\n",
       "      <td>1</td>\n",
       "    </tr>\n",
       "    <tr>\n",
       "      <th>4</th>\n",
       "      <td>ITO</td>\n",
       "      <td>Hilo</td>\n",
       "      <td>42.72</td>\n",
       "      <td>87.34</td>\n",
       "      <td>1993</td>\n",
       "      <td>1</td>\n",
       "    </tr>\n",
       "  </tbody>\n",
       "</table>\n",
       "</div>"
      ],
      "text/plain": [
       "  airport      city  Average Fare  Inflation Adjusted Average Fare  year  \\\n",
       "0     HNL  Honolulu        103.28                           211.15  1993   \n",
       "1     OGG   Kahului         48.83                            99.84  1993   \n",
       "2     KOA      Kona         45.96                            93.98  1993   \n",
       "3     LIH     Lihue         48.21                            98.56  1993   \n",
       "4     ITO      Hilo         42.72                            87.34  1993   \n",
       "\n",
       "   quarter  \n",
       "0        1  \n",
       "1        1  \n",
       "2        1  \n",
       "3        1  \n",
       "4        1  "
      ]
     },
     "execution_count": 44,
     "metadata": {},
     "output_type": "execute_result"
    }
   ],
   "source": [
    "ls = []\n",
    "for yr in years:\n",
    "    browser.find_by_id(\"dlstYear\").select(yr)\n",
    "    for qtr in quarters:\n",
    "        browser.find_by_id(\"dlstQuarter\").select(qtr)\n",
    "        browser.find_by_id(\"btnSubmit\").click()\n",
    "        time.sleep(0.5)\n",
    "        html = browser.html\n",
    "        soup = BeautifulSoup(html, 'html.parser')\n",
    "        scrape_page(html, ls, yr, qtr)\n",
    "df = pd.DataFrame(ls)\n",
    "df.head()"
   ]
  },
  {
   "cell_type": "code",
   "execution_count": 45,
   "metadata": {},
   "outputs": [],
   "source": [
    "df.to_csv(\"airfare_1993_2021.csv\", index=False)"
   ]
  }
 ],
 "metadata": {
  "kernelspec": {
   "display_name": "base",
   "language": "python",
   "name": "python3"
  },
  "language_info": {
   "codemirror_mode": {
    "name": "ipython",
    "version": 3
   },
   "file_extension": ".py",
   "mimetype": "text/x-python",
   "name": "python",
   "nbconvert_exporter": "python",
   "pygments_lexer": "ipython3",
   "version": "3.9.12 (main, Apr  5 2022, 01:53:17) \n[Clang 12.0.0 ]"
  },
  "orig_nbformat": 4,
  "vscode": {
   "interpreter": {
    "hash": "30b1c3b492f40982a7e28b3d0ce22bed4c462ba3c1154a8be24fedf63069c4c6"
   }
  }
 },
 "nbformat": 4,
 "nbformat_minor": 2
}
