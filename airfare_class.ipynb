{
 "cells": [
  {
   "cell_type": "code",
   "execution_count": 1,
   "metadata": {},
   "outputs": [
    {
     "name": "stderr",
     "output_type": "stream",
     "text": [
      "/Users/tongchenhe/opt/anaconda3/lib/python3.9/site-packages/scipy/__init__.py:146: UserWarning: A NumPy version >=1.16.5 and <1.23.0 is required for this version of SciPy (detected version 1.23.5\n",
      "  warnings.warn(f\"A NumPy version >={np_minversion} and <{np_maxversion}\"\n"
     ]
    }
   ],
   "source": [
    "import pandas as pd\n",
    "import matplotlib.pyplot as plt\n",
    "\n",
    "from sklearn.ensemble import RandomForestClassifier\n",
    "from sklearn.model_selection import train_test_split\n",
    "\n",
    "df = pd.read_csv(\"./airfare_1993_2021.csv\")"
   ]
  },
  {
   "cell_type": "code",
   "execution_count": 2,
   "metadata": {},
   "outputs": [
    {
     "data": {
      "text/plain": [
       "airport                            940\n",
       "city                               940\n",
       "Average Fare                       940\n",
       "Inflation Adjusted Average Fare    940\n",
       "year                               940\n",
       "quarter                            940\n",
       "dtype: int64"
      ]
     },
     "execution_count": 2,
     "metadata": {},
     "output_type": "execute_result"
    }
   ],
   "source": [
    "df.count()"
   ]
  },
  {
   "cell_type": "code",
   "execution_count": 3,
   "metadata": {},
   "outputs": [
    {
     "data": {
      "text/html": [
       "<div>\n",
       "<style scoped>\n",
       "    .dataframe tbody tr th:only-of-type {\n",
       "        vertical-align: middle;\n",
       "    }\n",
       "\n",
       "    .dataframe tbody tr th {\n",
       "        vertical-align: top;\n",
       "    }\n",
       "\n",
       "    .dataframe thead th {\n",
       "        text-align: right;\n",
       "    }\n",
       "</style>\n",
       "<table border=\"1\" class=\"dataframe\">\n",
       "  <thead>\n",
       "    <tr style=\"text-align: right;\">\n",
       "      <th></th>\n",
       "      <th>airport</th>\n",
       "      <th>city</th>\n",
       "      <th>Average Fare</th>\n",
       "      <th>Inflation Adjusted Average Fare</th>\n",
       "      <th>year</th>\n",
       "      <th>quarter</th>\n",
       "      <th>bin_avg</th>\n",
       "    </tr>\n",
       "  </thead>\n",
       "  <tbody>\n",
       "    <tr>\n",
       "      <th>0</th>\n",
       "      <td>HNL</td>\n",
       "      <td>Honolulu</td>\n",
       "      <td>103.28</td>\n",
       "      <td>211.15</td>\n",
       "      <td>1993</td>\n",
       "      <td>1</td>\n",
       "      <td>100-200</td>\n",
       "    </tr>\n",
       "    <tr>\n",
       "      <th>1</th>\n",
       "      <td>OGG</td>\n",
       "      <td>Kahului</td>\n",
       "      <td>48.83</td>\n",
       "      <td>99.84</td>\n",
       "      <td>1993</td>\n",
       "      <td>1</td>\n",
       "      <td>0-100</td>\n",
       "    </tr>\n",
       "    <tr>\n",
       "      <th>2</th>\n",
       "      <td>KOA</td>\n",
       "      <td>Kona</td>\n",
       "      <td>45.96</td>\n",
       "      <td>93.98</td>\n",
       "      <td>1993</td>\n",
       "      <td>1</td>\n",
       "      <td>0-100</td>\n",
       "    </tr>\n",
       "    <tr>\n",
       "      <th>3</th>\n",
       "      <td>LIH</td>\n",
       "      <td>Lihue</td>\n",
       "      <td>48.21</td>\n",
       "      <td>98.56</td>\n",
       "      <td>1993</td>\n",
       "      <td>1</td>\n",
       "      <td>0-100</td>\n",
       "    </tr>\n",
       "    <tr>\n",
       "      <th>4</th>\n",
       "      <td>ITO</td>\n",
       "      <td>Hilo</td>\n",
       "      <td>42.72</td>\n",
       "      <td>87.34</td>\n",
       "      <td>1993</td>\n",
       "      <td>1</td>\n",
       "      <td>0-100</td>\n",
       "    </tr>\n",
       "  </tbody>\n",
       "</table>\n",
       "</div>"
      ],
      "text/plain": [
       "  airport      city  Average Fare  Inflation Adjusted Average Fare  year  \\\n",
       "0     HNL  Honolulu        103.28                           211.15  1993   \n",
       "1     OGG   Kahului         48.83                            99.84  1993   \n",
       "2     KOA      Kona         45.96                            93.98  1993   \n",
       "3     LIH     Lihue         48.21                            98.56  1993   \n",
       "4     ITO      Hilo         42.72                            87.34  1993   \n",
       "\n",
       "   quarter  bin_avg  \n",
       "0        1  100-200  \n",
       "1        1    0-100  \n",
       "2        1    0-100  \n",
       "3        1    0-100  \n",
       "4        1    0-100  "
      ]
     },
     "execution_count": 3,
     "metadata": {},
     "output_type": "execute_result"
    }
   ],
   "source": [
    "labels =['0-100', '100-200', '200-300', '300-500', '500-800', '>800']\n",
    "df['bin_avg'] = pd.cut(df['Average Fare'], [0, 90, 200, 300, 500, 800, 5000], labels=labels)\n",
    "\n",
    "df.head()"
   ]
  },
  {
   "cell_type": "code",
   "execution_count": 4,
   "metadata": {},
   "outputs": [
    {
     "data": {
      "image/png": "[encoded data removed]",
      "text/plain": [
       "<Figure size 432x288 with 1 Axes>"
      ]
     },
     "metadata": {
      "needs_background": "light"
     },
     "output_type": "display_data"
    }
   ],
   "source": [
    "plt.bar(x=labels, height=df['bin_avg'].value_counts().sort_index())\n",
    "plt.xlabel(\"Airfare Ranges\")\n",
    "plt.ylabel(\"Count\")\n",
    "plt.xticks(rotation=45)\n",
    "\n",
    "plt.savefig('Avg_fare_bin_count.png',bbox_inches=\"tight\")"
   ]
  },
  {
   "cell_type": "code",
   "execution_count": 5,
   "metadata": {},
   "outputs": [],
   "source": [
    "y = df['bin_avg']\n",
    "X = df[['airport', 'city', 'year', 'quarter']]\n",
    "X_dummy = pd.get_dummies(X, columns=['airport', 'city'])"
   ]
  },
  {
   "cell_type": "code",
   "execution_count": 6,
   "metadata": {},
   "outputs": [],
   "source": [
    "X_train, X_test, y_train, y_test = train_test_split(X_dummy, y, random_state=20)"
   ]
  },
  {
   "cell_type": "code",
   "execution_count": 7,
   "metadata": {},
   "outputs": [],
   "source": [
    "clf = RandomForestClassifier(random_state=22, n_estimators=1218).fit(X_train, y_train)"
   ]
  },
  {
   "cell_type": "code",
   "execution_count": 8,
   "metadata": {},
   "outputs": [
    {
     "data": {
      "text/plain": [
       "0.7829787234042553"
      ]
     },
     "execution_count": 8,
     "metadata": {},
     "output_type": "execute_result"
    }
   ],
   "source": [
    "clf.score(X_test, y_test)"
   ]
  },
  {
   "cell_type": "code",
   "execution_count": 9,
   "metadata": {},
   "outputs": [],
   "source": [
    "def predict(airport, city, year, quarter):\n",
    "    new_row = {'airport':[airport], 'city':[city], 'year':[year], 'quarter':[quarter]}\n",
    "    new_X = pd.concat([X, pd.DataFrame(new_row)], ignore_index=True)\n",
    "    print(f\"The predicted average price range for airport {airport} in quarter {quarter} of {year} is {clf.predict(pd.get_dummies(new_X, columns=['airport', 'city']).tail(1))[0]} dollars\")"
   ]
  },
  {
   "cell_type": "code",
   "execution_count": 10,
   "metadata": {},
   "outputs": [
    {
     "name": "stdout",
     "output_type": "stream",
     "text": [
      "The predicted average price range for airport OGG in quarter 1 of 2023 is 300-500 dollars\n",
      "The predicted average price range for airport HNL in quarter 3 of 2023 is 200-300 dollars\n"
     ]
    }
   ],
   "source": [
    "predict('OGG', 'Kahului', 2023, 1)\n",
    "predict('HNL', 'Honolulu', 2023, 3)"
   ]
  },
  {
   "cell_type": "code",
   "execution_count": null,
   "metadata": {},
   "outputs": [],
   "source": []
  }
 ],
 "metadata": {
  "kernelspec": {
   "display_name": "base",
   "language": "python",
   "name": "python3"
  },
  "language_info": {
   "codemirror_mode": {
    "name": "ipython",
    "version": 3
   },
   "file_extension": ".py",
   "mimetype": "text/x-python",
   "name": "python",
   "nbconvert_exporter": "python",
   "pygments_lexer": "ipython3",
   "version": "3.9.12"
  },
  "orig_nbformat": 4,
  "vscode": {
   "interpreter": {
    "hash": "30b1c3b492f40982a7e28b3d0ce22bed4c462ba3c1154a8be24fedf63069c4c6"
   }
  }
 },
 "nbformat": 4,
 "nbformat_minor": 2
}
