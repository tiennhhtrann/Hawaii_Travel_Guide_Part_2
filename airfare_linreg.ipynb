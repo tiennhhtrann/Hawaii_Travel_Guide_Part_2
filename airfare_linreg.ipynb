{
 "cells": [
  {
   "cell_type": "code",
   "execution_count": 21,
   "metadata": {},
   "outputs": [
    {
     "data": {
      "text/plain": [
       "airport                             object\n",
       "city                                object\n",
       "Average Fare                       float64\n",
       "Inflation Adjusted Average Fare    float64\n",
       "year                                object\n",
       "quarter                             object\n",
       "dtype: object"
      ]
     },
     "execution_count": 21,
     "metadata": {},
     "output_type": "execute_result"
    }
   ],
   "source": [
    "import pandas as pd\n",
    "\n",
    "df = pd.read_csv(\"./airfare_1993_2021.csv\")\n",
    "\n",
    "df['year'] = df['year'].astype(str)\n",
    "df['quarter'] = df['quarter'].astype(str)\n",
    "\n",
    "df.dtypes"
   ]
  },
  {
   "cell_type": "code",
   "execution_count": 22,
   "metadata": {},
   "outputs": [
    {
     "data": {
      "text/html": [
       "<div>\n",
       "<style scoped>\n",
       "    .dataframe tbody tr th:only-of-type {\n",
       "        vertical-align: middle;\n",
       "    }\n",
       "\n",
       "    .dataframe tbody tr th {\n",
       "        vertical-align: top;\n",
       "    }\n",
       "\n",
       "    .dataframe thead th {\n",
       "        text-align: right;\n",
       "    }\n",
       "</style>\n",
       "<table border=\"1\" class=\"dataframe\">\n",
       "  <thead>\n",
       "    <tr style=\"text-align: right;\">\n",
       "      <th></th>\n",
       "      <th>airport</th>\n",
       "      <th>city</th>\n",
       "      <th>Average Fare</th>\n",
       "      <th>Inflation Adjusted Average Fare</th>\n",
       "      <th>year</th>\n",
       "      <th>quarter</th>\n",
       "    </tr>\n",
       "  </thead>\n",
       "  <tbody>\n",
       "    <tr>\n",
       "      <th>0</th>\n",
       "      <td>HNL</td>\n",
       "      <td>Honolulu</td>\n",
       "      <td>103.28</td>\n",
       "      <td>211.15</td>\n",
       "      <td>1993</td>\n",
       "      <td>1</td>\n",
       "    </tr>\n",
       "    <tr>\n",
       "      <th>1</th>\n",
       "      <td>OGG</td>\n",
       "      <td>Kahului</td>\n",
       "      <td>48.83</td>\n",
       "      <td>99.84</td>\n",
       "      <td>1993</td>\n",
       "      <td>1</td>\n",
       "    </tr>\n",
       "    <tr>\n",
       "      <th>2</th>\n",
       "      <td>KOA</td>\n",
       "      <td>Kona</td>\n",
       "      <td>45.96</td>\n",
       "      <td>93.98</td>\n",
       "      <td>1993</td>\n",
       "      <td>1</td>\n",
       "    </tr>\n",
       "    <tr>\n",
       "      <th>3</th>\n",
       "      <td>LIH</td>\n",
       "      <td>Lihue</td>\n",
       "      <td>48.21</td>\n",
       "      <td>98.56</td>\n",
       "      <td>1993</td>\n",
       "      <td>1</td>\n",
       "    </tr>\n",
       "    <tr>\n",
       "      <th>4</th>\n",
       "      <td>ITO</td>\n",
       "      <td>Hilo</td>\n",
       "      <td>42.72</td>\n",
       "      <td>87.34</td>\n",
       "      <td>1993</td>\n",
       "      <td>1</td>\n",
       "    </tr>\n",
       "  </tbody>\n",
       "</table>\n",
       "</div>"
      ],
      "text/plain": [
       "  airport      city  Average Fare  Inflation Adjusted Average Fare  year  \\\n",
       "0     HNL  Honolulu        103.28                           211.15  1993   \n",
       "1     OGG   Kahului         48.83                            99.84  1993   \n",
       "2     KOA      Kona         45.96                            93.98  1993   \n",
       "3     LIH     Lihue         48.21                            98.56  1993   \n",
       "4     ITO      Hilo         42.72                            87.34  1993   \n",
       "\n",
       "  quarter  \n",
       "0       1  \n",
       "1       1  \n",
       "2       1  \n",
       "3       1  \n",
       "4       1  "
      ]
     },
     "execution_count": 22,
     "metadata": {},
     "output_type": "execute_result"
    }
   ],
   "source": [
    "df.head()"
   ]
  },
  {
   "cell_type": "code",
   "execution_count": 23,
   "metadata": {},
   "outputs": [
    {
     "data": {
      "text/plain": [
       "airport                            580\n",
       "city                               580\n",
       "Average Fare                       580\n",
       "Inflation Adjusted Average Fare    580\n",
       "year                               580\n",
       "quarter                            580\n",
       "dtype: int64"
      ]
     },
     "execution_count": 23,
     "metadata": {},
     "output_type": "execute_result"
    }
   ],
   "source": [
    "# filter the five biggest airports in Hawaii\n",
    "df = df[df['airport'].isin(['HNL', 'OGG', 'ITO', 'KOA', 'LIH'])]\n",
    "df.count()"
   ]
  },
  {
   "cell_type": "code",
   "execution_count": 24,
   "metadata": {},
   "outputs": [],
   "source": [
    "import matplotlib.pyplot as plt"
   ]
  },
  {
   "cell_type": "code",
   "execution_count": 25,
   "metadata": {},
   "outputs": [
    {
     "data": {
      "text/html": [
       "<div>\n",
       "<style scoped>\n",
       "    .dataframe tbody tr th:only-of-type {\n",
       "        vertical-align: middle;\n",
       "    }\n",
       "\n",
       "    .dataframe tbody tr th {\n",
       "        vertical-align: top;\n",
       "    }\n",
       "\n",
       "    .dataframe thead th {\n",
       "        text-align: right;\n",
       "    }\n",
       "</style>\n",
       "<table border=\"1\" class=\"dataframe\">\n",
       "  <thead>\n",
       "    <tr style=\"text-align: right;\">\n",
       "      <th></th>\n",
       "      <th></th>\n",
       "      <th>Average Fare</th>\n",
       "      <th>Inflation Adjusted Average Fare</th>\n",
       "    </tr>\n",
       "    <tr>\n",
       "      <th>year</th>\n",
       "      <th>quarter</th>\n",
       "      <th></th>\n",
       "      <th></th>\n",
       "    </tr>\n",
       "  </thead>\n",
       "  <tbody>\n",
       "    <tr>\n",
       "      <th rowspan=\"4\" valign=\"top\">1993</th>\n",
       "      <th>1</th>\n",
       "      <td>57.800</td>\n",
       "      <td>118.174</td>\n",
       "    </tr>\n",
       "    <tr>\n",
       "      <th>2</th>\n",
       "      <td>74.132</td>\n",
       "      <td>150.410</td>\n",
       "    </tr>\n",
       "    <tr>\n",
       "      <th>3</th>\n",
       "      <td>64.494</td>\n",
       "      <td>130.338</td>\n",
       "    </tr>\n",
       "    <tr>\n",
       "      <th>4</th>\n",
       "      <td>63.126</td>\n",
       "      <td>126.696</td>\n",
       "    </tr>\n",
       "    <tr>\n",
       "      <th>1994</th>\n",
       "      <th>1</th>\n",
       "      <td>66.436</td>\n",
       "      <td>132.506</td>\n",
       "    </tr>\n",
       "    <tr>\n",
       "      <th>...</th>\n",
       "      <th>...</th>\n",
       "      <td>...</td>\n",
       "      <td>...</td>\n",
       "    </tr>\n",
       "    <tr>\n",
       "      <th>2020</th>\n",
       "      <th>4</th>\n",
       "      <td>252.732</td>\n",
       "      <td>283.994</td>\n",
       "    </tr>\n",
       "    <tr>\n",
       "      <th rowspan=\"4\" valign=\"top\">2021</th>\n",
       "      <th>1</th>\n",
       "      <td>246.426</td>\n",
       "      <td>273.970</td>\n",
       "    </tr>\n",
       "    <tr>\n",
       "      <th>2</th>\n",
       "      <td>269.058</td>\n",
       "      <td>292.292</td>\n",
       "    </tr>\n",
       "    <tr>\n",
       "      <th>3</th>\n",
       "      <td>267.944</td>\n",
       "      <td>286.494</td>\n",
       "    </tr>\n",
       "    <tr>\n",
       "      <th>4</th>\n",
       "      <td>261.912</td>\n",
       "      <td>275.860</td>\n",
       "    </tr>\n",
       "  </tbody>\n",
       "</table>\n",
       "<p>116 rows × 2 columns</p>\n",
       "</div>"
      ],
      "text/plain": [
       "              Average Fare  Inflation Adjusted Average Fare\n",
       "year quarter                                               \n",
       "1993 1              57.800                          118.174\n",
       "     2              74.132                          150.410\n",
       "     3              64.494                          130.338\n",
       "     4              63.126                          126.696\n",
       "1994 1              66.436                          132.506\n",
       "...                    ...                              ...\n",
       "2020 4             252.732                          283.994\n",
       "2021 1             246.426                          273.970\n",
       "     2             269.058                          292.292\n",
       "     3             267.944                          286.494\n",
       "     4             261.912                          275.860\n",
       "\n",
       "[116 rows x 2 columns]"
      ]
     },
     "execution_count": 25,
     "metadata": {},
     "output_type": "execute_result"
    }
   ],
   "source": [
    "df.groupby([\"year\", \"quarter\"]).mean(\"Average Fare\")"
   ]
  },
  {
   "cell_type": "code",
   "execution_count": 26,
   "metadata": {},
   "outputs": [
    {
     "data": {
      "text/html": [
       "<div>\n",
       "<style scoped>\n",
       "    .dataframe tbody tr th:only-of-type {\n",
       "        vertical-align: middle;\n",
       "    }\n",
       "\n",
       "    .dataframe tbody tr th {\n",
       "        vertical-align: top;\n",
       "    }\n",
       "\n",
       "    .dataframe thead th {\n",
       "        text-align: right;\n",
       "    }\n",
       "</style>\n",
       "<table border=\"1\" class=\"dataframe\">\n",
       "  <thead>\n",
       "    <tr style=\"text-align: right;\">\n",
       "      <th></th>\n",
       "      <th>Average Fare</th>\n",
       "      <th>Inflation Adjusted Average Fare</th>\n",
       "    </tr>\n",
       "    <tr>\n",
       "      <th>year</th>\n",
       "      <th></th>\n",
       "      <th></th>\n",
       "    </tr>\n",
       "  </thead>\n",
       "  <tbody>\n",
       "    <tr>\n",
       "      <th>1993</th>\n",
       "      <td>64.8880</td>\n",
       "      <td>131.4045</td>\n",
       "    </tr>\n",
       "    <tr>\n",
       "      <th>1994</th>\n",
       "      <td>67.6050</td>\n",
       "      <td>133.4750</td>\n",
       "    </tr>\n",
       "    <tr>\n",
       "      <th>1995</th>\n",
       "      <td>59.3260</td>\n",
       "      <td>113.9320</td>\n",
       "    </tr>\n",
       "    <tr>\n",
       "      <th>1996</th>\n",
       "      <td>59.9355</td>\n",
       "      <td>111.7785</td>\n",
       "    </tr>\n",
       "    <tr>\n",
       "      <th>1997</th>\n",
       "      <td>61.3270</td>\n",
       "      <td>111.7760</td>\n",
       "    </tr>\n",
       "    <tr>\n",
       "      <th>1998</th>\n",
       "      <td>66.8750</td>\n",
       "      <td>120.0175</td>\n",
       "    </tr>\n",
       "    <tr>\n",
       "      <th>1999</th>\n",
       "      <td>70.5470</td>\n",
       "      <td>123.8805</td>\n",
       "    </tr>\n",
       "    <tr>\n",
       "      <th>2000</th>\n",
       "      <td>77.4065</td>\n",
       "      <td>131.4595</td>\n",
       "    </tr>\n",
       "    <tr>\n",
       "      <th>2001</th>\n",
       "      <td>88.9260</td>\n",
       "      <td>146.9090</td>\n",
       "    </tr>\n",
       "    <tr>\n",
       "      <th>2002</th>\n",
       "      <td>94.2500</td>\n",
       "      <td>153.2870</td>\n",
       "    </tr>\n",
       "    <tr>\n",
       "      <th>2003</th>\n",
       "      <td>132.8515</td>\n",
       "      <td>211.2050</td>\n",
       "    </tr>\n",
       "    <tr>\n",
       "      <th>2004</th>\n",
       "      <td>176.3695</td>\n",
       "      <td>273.1440</td>\n",
       "    </tr>\n",
       "    <tr>\n",
       "      <th>2005</th>\n",
       "      <td>200.2190</td>\n",
       "      <td>299.7575</td>\n",
       "    </tr>\n",
       "    <tr>\n",
       "      <th>2006</th>\n",
       "      <td>205.3885</td>\n",
       "      <td>298.2005</td>\n",
       "    </tr>\n",
       "    <tr>\n",
       "      <th>2007</th>\n",
       "      <td>173.1955</td>\n",
       "      <td>244.2555</td>\n",
       "    </tr>\n",
       "    <tr>\n",
       "      <th>2008</th>\n",
       "      <td>231.9180</td>\n",
       "      <td>314.7820</td>\n",
       "    </tr>\n",
       "    <tr>\n",
       "      <th>2009</th>\n",
       "      <td>196.5430</td>\n",
       "      <td>268.0135</td>\n",
       "    </tr>\n",
       "    <tr>\n",
       "      <th>2010</th>\n",
       "      <td>238.8535</td>\n",
       "      <td>320.4390</td>\n",
       "    </tr>\n",
       "    <tr>\n",
       "      <th>2011</th>\n",
       "      <td>269.2970</td>\n",
       "      <td>350.1710</td>\n",
       "    </tr>\n",
       "    <tr>\n",
       "      <th>2012</th>\n",
       "      <td>263.3590</td>\n",
       "      <td>335.6025</td>\n",
       "    </tr>\n",
       "    <tr>\n",
       "      <th>2013</th>\n",
       "      <td>277.5415</td>\n",
       "      <td>348.4990</td>\n",
       "    </tr>\n",
       "    <tr>\n",
       "      <th>2014</th>\n",
       "      <td>299.1375</td>\n",
       "      <td>369.6395</td>\n",
       "    </tr>\n",
       "    <tr>\n",
       "      <th>2015</th>\n",
       "      <td>315.0880</td>\n",
       "      <td>388.8940</td>\n",
       "    </tr>\n",
       "    <tr>\n",
       "      <th>2016</th>\n",
       "      <td>318.2990</td>\n",
       "      <td>387.9435</td>\n",
       "    </tr>\n",
       "    <tr>\n",
       "      <th>2017</th>\n",
       "      <td>306.0095</td>\n",
       "      <td>365.2620</td>\n",
       "    </tr>\n",
       "    <tr>\n",
       "      <th>2018</th>\n",
       "      <td>301.1685</td>\n",
       "      <td>350.9350</td>\n",
       "    </tr>\n",
       "    <tr>\n",
       "      <th>2019</th>\n",
       "      <td>282.7400</td>\n",
       "      <td>323.6215</td>\n",
       "    </tr>\n",
       "    <tr>\n",
       "      <th>2020</th>\n",
       "      <td>227.9410</td>\n",
       "      <td>257.6350</td>\n",
       "    </tr>\n",
       "    <tr>\n",
       "      <th>2021</th>\n",
       "      <td>261.3350</td>\n",
       "      <td>282.1540</td>\n",
       "    </tr>\n",
       "  </tbody>\n",
       "</table>\n",
       "</div>"
      ],
      "text/plain": [
       "      Average Fare  Inflation Adjusted Average Fare\n",
       "year                                               \n",
       "1993       64.8880                         131.4045\n",
       "1994       67.6050                         133.4750\n",
       "1995       59.3260                         113.9320\n",
       "1996       59.9355                         111.7785\n",
       "1997       61.3270                         111.7760\n",
       "1998       66.8750                         120.0175\n",
       "1999       70.5470                         123.8805\n",
       "2000       77.4065                         131.4595\n",
       "2001       88.9260                         146.9090\n",
       "2002       94.2500                         153.2870\n",
       "2003      132.8515                         211.2050\n",
       "2004      176.3695                         273.1440\n",
       "2005      200.2190                         299.7575\n",
       "2006      205.3885                         298.2005\n",
       "2007      173.1955                         244.2555\n",
       "2008      231.9180                         314.7820\n",
       "2009      196.5430                         268.0135\n",
       "2010      238.8535                         320.4390\n",
       "2011      269.2970                         350.1710\n",
       "2012      263.3590                         335.6025\n",
       "2013      277.5415                         348.4990\n",
       "2014      299.1375                         369.6395\n",
       "2015      315.0880                         388.8940\n",
       "2016      318.2990                         387.9435\n",
       "2017      306.0095                         365.2620\n",
       "2018      301.1685                         350.9350\n",
       "2019      282.7400                         323.6215\n",
       "2020      227.9410                         257.6350\n",
       "2021      261.3350                         282.1540"
      ]
     },
     "execution_count": 26,
     "metadata": {},
     "output_type": "execute_result"
    }
   ],
   "source": [
    "df['year_quarter'] = df[['year', 'quarter']].agg('-Q'.join, axis=1)\n",
    "grouped = df.groupby(\"year\").mean(\"Average Fare\")\n",
    "grouped"
   ]
  },
  {
   "cell_type": "code",
   "execution_count": 27,
   "metadata": {},
   "outputs": [],
   "source": [
    "years = df['year'].unique()\n",
    "avg_fare = grouped['Average Fare']\n",
    "adj_avg_fare = grouped['Inflation Adjusted Average Fare']"
   ]
  },
  {
   "cell_type": "code",
   "execution_count": 28,
   "metadata": {},
   "outputs": [
    {
     "data": {
      "text/plain": [
       "<matplotlib.collections.PathCollection at 0x7fbe1ac8aa30>"
      ]
     },
     "execution_count": 28,
     "metadata": {},
     "output_type": "execute_result"
    },
    {
     "data": {
      "image/png": "[encoded data removed]",
      "text/plain": [
       "<Figure size 432x288 with 1 Axes>"
      ]
     },
     "metadata": {
      "needs_background": "light"
     },
     "output_type": "display_data"
    }
   ],
   "source": [
    "plt.scatter(years, avg_fare)"
   ]
  },
  {
   "cell_type": "code",
   "execution_count": 29,
   "metadata": {},
   "outputs": [],
   "source": [
    "from sklearn.linear_model import LinearRegression\n",
    "X = years.reshape(-1, 1)\n",
    "y = avg_fare.values.reshape(-1, 1)"
   ]
  },
  {
   "cell_type": "code",
   "execution_count": 30,
   "metadata": {},
   "outputs": [],
   "source": [
    "model = LinearRegression()\n",
    "model.fit(X, y)\n",
    "predictions = model.predict(X)"
   ]
  },
  {
   "cell_type": "code",
   "execution_count": 31,
   "metadata": {},
   "outputs": [
    {
     "data": {
      "text/plain": [
       "array([[ 40.17110345,  50.57351355,  60.97592365,  71.37833374,\n",
       "         81.78074384,  92.18315394, 102.58556404, 112.98797414,\n",
       "        123.39038424, 133.79279433, 144.19520443, 154.59761453,\n",
       "        165.00002463, 175.40243473, 185.80484483, 196.20725493,\n",
       "        206.60966502, 217.01207512, 227.41448522, 237.81689532,\n",
       "        248.21930542, 258.62171552, 269.02412562, 279.42653571,\n",
       "        289.82894581, 300.23135591, 310.63376601, 321.03617611,\n",
       "        331.43858621]])"
      ]
     },
     "execution_count": 31,
     "metadata": {},
     "output_type": "execute_result"
    }
   ],
   "source": [
    "predictions.reshape(1, -1)"
   ]
  },
  {
   "cell_type": "code",
   "execution_count": 32,
   "metadata": {},
   "outputs": [
    {
     "data": {
      "text/plain": [
       "array([ 64.888 ,  67.605 ,  59.326 ,  59.9355,  61.327 ,  66.875 ,\n",
       "        70.547 ,  77.4065,  88.926 ,  94.25  , 132.8515, 176.3695,\n",
       "       200.219 , 205.3885, 173.1955, 231.918 , 196.543 , 238.8535,\n",
       "       269.297 , 263.359 , 277.5415, 299.1375, 315.088 , 318.299 ,\n",
       "       306.0095, 301.1685, 282.74  , 227.941 , 261.335 ])"
      ]
     },
     "execution_count": 32,
     "metadata": {},
     "output_type": "execute_result"
    }
   ],
   "source": [
    "y.reshape(1, -1)[0]"
   ]
  },
  {
   "cell_type": "code",
   "execution_count": 51,
   "metadata": {},
   "outputs": [
    {
     "data": {
      "image/png": "[encoded data removed]",
      "text/plain": [
       "<Figure size 432x288 with 1 Axes>"
      ]
     },
     "metadata": {
      "needs_background": "light"
     },
     "output_type": "display_data"
    }
   ],
   "source": [
    "plt.scatter(years, avg_fare)\n",
    "plt.scatter(years, predictions.reshape(1, -1)[0], color = 'red')\n",
    "plt.xticks(rotation=90)\n",
    "plt.savefig(\"./linreg.png\")"
   ]
  },
  {
   "cell_type": "code",
   "execution_count": 34,
   "metadata": {},
   "outputs": [],
   "source": [
    "from sklearn.metrics import r2_score"
   ]
  },
  {
   "cell_type": "code",
   "execution_count": 53,
   "metadata": {},
   "outputs": [
    {
     "name": "stdout",
     "output_type": "stream",
     "text": [
      "The r-squared value of the model is: 0.8623787611329689\n"
     ]
    }
   ],
   "source": [
    "print(\"The r-squared value of the model is:\",r2_score(y, predictions))"
   ]
  },
  {
   "cell_type": "code",
   "execution_count": 47,
   "metadata": {},
   "outputs": [
    {
     "data": {
      "text/plain": [
       "array([[352.2434064],\n",
       "       [362.6458165]])"
      ]
     },
     "execution_count": 47,
     "metadata": {},
     "output_type": "execute_result"
    }
   ],
   "source": [
    "model.predict([[2023], [2024]])"
   ]
  },
  {
   "cell_type": "code",
   "execution_count": null,
   "metadata": {},
   "outputs": [],
   "source": []
  }
 ],
 "metadata": {
  "kernelspec": {
   "display_name": "base",
   "language": "python",
   "name": "python3"
  },
  "language_info": {
   "codemirror_mode": {
    "name": "ipython",
    "version": 3
   },
   "file_extension": ".py",
   "mimetype": "text/x-python",
   "name": "python",
   "nbconvert_exporter": "python",
   "pygments_lexer": "ipython3",
   "version": "3.9.12 (main, Apr  5 2022, 01:53:17) \n[Clang 12.0.0 ]"
  },
  "orig_nbformat": 4,
  "vscode": {
   "interpreter": {
    "hash": "30b1c3b492f40982a7e28b3d0ce22bed4c462ba3c1154a8be24fedf63069c4c6"
   }
  }
 },
 "nbformat": 4,
 "nbformat_minor": 2
}
